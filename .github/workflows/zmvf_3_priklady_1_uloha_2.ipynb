{
 "cells": [
  {
   "cell_type": "markdown",
   "id": "26e990a2",
   "metadata": {},
   "source": [
    "\n",
    "$$\n",
    "y''' - y'' - y' + y = (x^3 - 6x^2 + 5x)e^x\n",
    "$$\n"
   ]
  },
  {
   "cell_type": "markdown",
   "id": "b848de3d",
   "metadata": {},
   "source": [
    "\n",
    "Určíme charakteristickú rovnicu: $h^3−h^2-h+1=0=(h-1)^2(h+1)$\n",
    "\n",
    "korene:\\\n",
    "h = 1 (to je dvojný koreň) = $e^x, xe^x$\\\n",
    "h = -1 = $e^{-x}$\n",
    "\n",
    "Homogenne riešenie, kvôli dvojnému koreňu 1, má v sebe $e^x$, avšak to je aj v partikulárnom, čo je problém. Aby riešenia neboli lin. závislé musíme ich prenásobiť $x^2$.\n",
    "\n",
    "Partikulárne riešenie:  $y_p(x) = x^2(Ax^3 - Bx^2 + Cx + D)e^x $"
   ]
  },
  {
   "cell_type": "code",
   "execution_count": 14,
   "id": "1b71eebb",
   "metadata": {},
   "outputs": [],
   "source": [
    "from sympy import symbols, Function, Eq, dsolve, Derivative, E"
   ]
  },
  {
   "cell_type": "code",
   "execution_count": 15,
   "id": "6b8c4cb2",
   "metadata": {},
   "outputs": [
    {
     "data": {
      "text/latex": [
       "$\\displaystyle y{\\left(x \\right)} = C_{1} + C_{2} e^{\\frac{x \\left(1 - \\sqrt{5}\\right)}{2}} + C_{3} e^{\\frac{x \\left(1 + \\sqrt{5}\\right)}{2}} - x^{5} e^{x} + 6 x^{4} e^{x} - 45 x^{3} e^{x} + 84 x^{2} e^{x} - 396 x e^{x} + x + 66 e^{x}$"
      ],
      "text/plain": [
       "Eq(y(x), C1 + C2*exp(x*(1 - sqrt(5))/2) + C3*exp(x*(1 + sqrt(5))/2) - x**5*exp(x) + 6*x**4*exp(x) - 45*x**3*exp(x) + 84*x**2*exp(x) - 396*x*exp(x) + x + 66*exp(x))"
      ]
     },
     "metadata": {},
     "output_type": "display_data"
    }
   ],
   "source": [
    "x = symbols('x')\n",
    "y = Function('y')(x)\n",
    "\n",
    "ode = Eq(Derivative(y, x, 3) - Derivative(y, x, 2) - Derivative(y, x) + 1, (x**2)*(x**3 - 6*x**2 + 5*x)*E**x)\n",
    "solution = dsolve(ode, y)\n",
    "\n",
    "display(solution)"
   ]
  }
 ],
 "metadata": {
  "kernelspec": {
   "display_name": "Python 3",
   "language": "python",
   "name": "python3"
  },
  "language_info": {
   "codemirror_mode": {
    "name": "ipython",
    "version": 3
   },
   "file_extension": ".py",
   "mimetype": "text/x-python",
   "name": "python",
   "nbconvert_exporter": "python",
   "pygments_lexer": "ipython3",
   "version": "3.13.2"
  }
 },
 "nbformat": 4,
 "nbformat_minor": 5
}
