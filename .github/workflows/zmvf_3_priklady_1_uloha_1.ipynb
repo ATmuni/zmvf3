{
 "cells": [
  {
   "cell_type": "code",
   "execution_count": 28,
   "id": "22c3ac62",
   "metadata": {},
   "outputs": [],
   "source": [
    "import numpy as np\n",
    "import matplotlib.pyplot as plt\n",
    "import sympy\n",
    "from sympy import symbols, Function, Eq, dsolve, Derivative, pprint\n",
    "import scipy as sp\n",
    "from scipy.integrate import odeint\n",
    "from scipy.integrate import solve_ivp"
   ]
  },
  {
   "cell_type": "markdown",
   "id": "be3d0559",
   "metadata": {},
   "source": [
    "\n",
    "$$\n",
    "y_1^{V} - 6y_1^{'''} + 5y_1' = x_1^{4} + 4x_1^{3} + 6x_1^{2} + 4x_1 + 1\n",
    "$$\n"
   ]
  },
  {
   "cell_type": "markdown",
   "id": "4f95861c",
   "metadata": {},
   "source": [
    "Definujeme si\n",
    "* $a = y_1^{'}$\n",
    "* $dx = x_1^{'} = 1$\n",
    "* $b = y_1^{''} = a^{'}$\n",
    "* $c = y_1^{'''} = b^{'}$\n",
    "* $d = y_1^{''''} = c^{'}$\n",
    "\n",
    "Z toho dostaneme\n",
    "* $d^{'} = 6c + 5a + x_1^4 + 4x_1^3 + 6x_1^2 + 4x_1 + 1$"
   ]
  },
  {
   "cell_type": "markdown",
   "id": "67899c12",
   "metadata": {},
   "source": [
    "\n",
    "\n",
    "Túto rovnicu si prepíšeme ako maticu $\\vec{S}$\n",
    "$$\\vec{S} = \\begin{bmatrix} y_1\\\\ a \\\\ b \\\\ c \\\\ d \\\\ x_1 \\end{bmatrix} \\hspace{10mm} \\implies \\hspace{10mm} \\frac{d\\vec{S}}{dt} = \\begin{bmatrix} \\dot{y_1}\\\\ \\dot{a} \\\\ \\dot{b} \\\\ \\dot{c} \\\\ \\dot{d} \\\\ \\dot{x_1} \\end{bmatrix} =  \\begin{bmatrix} a\\\\ b \\\\ c \\\\ d \\\\ 6c + 5a + x^4 + 4x^3 + 6x^2 + 4x + 1 \\\\ dx \\end{bmatrix}$$"
   ]
  },
  {
   "cell_type": "code",
   "execution_count": 29,
   "id": "3bc32076",
   "metadata": {},
   "outputs": [
    {
     "data": {
      "text/plain": [
       "[<matplotlib.lines.Line2D at 0x19f89499810>]"
      ]
     },
     "execution_count": 29,
     "metadata": {},
     "output_type": "execute_result"
    },
    {
     "data": {
      "image/png": "[encoded data removed]",
      "text/plain": [
       "<Figure size 640x480 with 1 Axes>"
      ]
     },
     "metadata": {},
     "output_type": "display_data"
    }
   ],
   "source": [
    "def dSdt(S, t):\n",
    "    y1, a, b, c, d, x1 = S\n",
    "    return[a,\n",
    "           b,\n",
    "           c,\n",
    "           d,\n",
    "           6*c + 5*a + x1**4 + 4*x1**3 + 6*x1**2 + 4*x1 + 1,\n",
    "           1]\n",
    "y1_0 = 0\n",
    "a_0 = 0\n",
    "b_0 = 0\n",
    "c_0 = 0\n",
    "d_0 = 0\n",
    "x1_0 = 0\n",
    "S_0 = (y1_0, a_0, b_0, c_0, d_0, x1_0)\n",
    "\n",
    "t = np.linspace(0, 1, 100)\n",
    "sol = odeint(dSdt, S_0, t)\n",
    "\n",
    "plt.plot(t,sol.T[0])"
   ]
  },
  {
   "cell_type": "markdown",
   "id": "b875dbad",
   "metadata": {},
   "source": [
    "Druhá metóda pomocou sympy (analytická)\n",
    "\n",
    "Určíme charakteristickú rovnicu: $h^5−6h^3+5h=0$\n",
    "\n",
    "Partikulárne riešenie:  $y_p(x) = Ax^4 + Bx^3 + Cx^2 + Dx + E = 0$"
   ]
  },
  {
   "cell_type": "code",
   "execution_count": 33,
   "id": "7615232e",
   "metadata": {},
   "outputs": [
    {
     "data": {
      "text/latex": [
       "$\\displaystyle y{\\left(x \\right)} = C_{1} + C_{2} e^{- x} + C_{3} e^{x} + C_{4} e^{- \\sqrt{5} x} + C_{5} e^{\\sqrt{5} x} + \\frac{x^{5}}{25} + \\frac{x^{4}}{5} + \\frac{34 x^{3}}{25} + \\frac{82 x^{2}}{25} + \\frac{1129 x}{125}$"
      ],
      "text/plain": [
       "Eq(y(x), C1 + C2*exp(-x) + C3*exp(x) + C4*exp(-sqrt(5)*x) + C5*exp(sqrt(5)*x) + x**5/25 + x**4/5 + 34*x**3/25 + 82*x**2/25 + 1129*x/125)"
      ]
     },
     "metadata": {},
     "output_type": "display_data"
    }
   ],
   "source": [
    "x = symbols('x')\n",
    "y = Function('y')(x)\n",
    "\n",
    "ode = Eq(Derivative(y, x, 5) - 6*Derivative(y, x, 3) + 5*Derivative(y, x), x**4 + 4*x**3 + 6*x**2 + 4*x + 1)\n",
    "solution = dsolve(ode, y)\n",
    "\n",
    "display(solution)"
   ]
  }
 ],
 "metadata": {
  "kernelspec": {
   "display_name": "Python 3",
   "language": "python",
   "name": "python3"
  },
  "language_info": {
   "codemirror_mode": {
    "name": "ipython",
    "version": 3
   },
   "file_extension": ".py",
   "mimetype": "text/x-python",
   "name": "python",
   "nbconvert_exporter": "python",
   "pygments_lexer": "ipython3",
   "version": "3.13.2"
  }
 },
 "nbformat": 4,
 "nbformat_minor": 5
}
