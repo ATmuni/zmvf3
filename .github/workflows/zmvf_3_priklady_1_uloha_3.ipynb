{
 "cells": [
  {
   "cell_type": "markdown",
   "id": "82f92e7b",
   "metadata": {},
   "source": [
    "\n",
    "\n",
    "\\begin{aligned}\n",
    "u' &= u + y - (x^4 + 3x^2 + 2)e^{2x} \\\\\n",
    "w' &= u + w + z + (x^2 - 4x + 1)e^{2x} \\\\\n",
    "z' &= w + z + y - (x + 2)e^{2x} \\\\\n",
    "y' &= u + y - 2e^{2x}\n",
    "\\end{aligned}\n",
    "\n"
   ]
  },
  {
   "cell_type": "markdown",
   "id": "edea587d",
   "metadata": {},
   "source": [
    "Tu máme rovnice už predpripravené, teda ich stačí už len vypočítať."
   ]
  },
  {
   "cell_type": "code",
   "execution_count": 9,
   "id": "8d37d30d",
   "metadata": {},
   "outputs": [],
   "source": [
    "from sympy import symbols, Function, Eq, dsolve, Derivative, E"
   ]
  },
  {
   "cell_type": "code",
   "execution_count": 10,
   "id": "3e9fbd57",
   "metadata": {},
   "outputs": [
    {
     "data": {
      "text/latex": [
       "$\\displaystyle u{\\left(x \\right)} = - C_{1} - \\frac{x^{5} e^{2 x}}{10} - \\frac{x^{4} e^{2 x}}{4} - \\frac{3 x^{2} e^{2 x}}{2} - \\frac{x e^{2 x}}{2} + \\left(C_{2} - \\frac{3}{4}\\right) e^{2 x}$"
      ],
      "text/plain": [
       "Eq(u(x), -C1 - x**5*exp(2*x)/10 - x**4*exp(2*x)/4 - 3*x**2*exp(2*x)/2 - x*exp(2*x)/2 + (C2 - 3/4)*exp(2*x))"
      ]
     },
     "metadata": {},
     "output_type": "display_data"
    },
    {
     "data": {
      "text/latex": [
       "$\\displaystyle w{\\left(x \\right)} = - C_{1} x - C_{3} - \\frac{x^{6} e^{2 x}}{60} - \\frac{x^{4} e^{2 x}}{4} + \\frac{2 x^{3} e^{2 x}}{3} - \\frac{3 x^{2} e^{2 x}}{2} + x \\left(C_{2} + \\frac{11}{4}\\right) e^{2 x} + \\left(C_{4} - \\frac{5}{4}\\right) e^{2 x}$"
      ],
      "text/plain": [
       "Eq(w(x), -C1*x - C3 - x**6*exp(2*x)/60 - x**4*exp(2*x)/4 + 2*x**3*exp(2*x)/3 - 3*x**2*exp(2*x)/2 + x*(C2 + 11/4)*exp(2*x) + (C4 - 5/4)*exp(2*x))"
      ]
     },
     "metadata": {},
     "output_type": "display_data"
    },
    {
     "data": {
      "text/latex": [
       "$\\displaystyle z{\\left(x \\right)} = C_{1} x + C_{3} - \\frac{x^{6} e^{2 x}}{60} - \\frac{x^{3} e^{2 x}}{3} + x^{2} e^{2 x} + x \\left(C_{2} - \\frac{15}{4}\\right) e^{2 x} + \\left(C_{4} + \\frac{5}{4}\\right) e^{2 x}$"
      ],
      "text/plain": [
       "Eq(z(x), C1*x + C3 - x**6*exp(2*x)/60 - x**3*exp(2*x)/3 + x**2*exp(2*x) + x*(C2 - 15/4)*exp(2*x) + (C4 + 5/4)*exp(2*x))"
      ]
     },
     "metadata": {},
     "output_type": "display_data"
    },
    {
     "data": {
      "text/latex": [
       "$\\displaystyle y{\\left(x \\right)} = C_{1} - \\frac{x^{5} e^{2 x}}{10} + \\frac{x^{4} e^{2 x}}{4} - x^{3} e^{2 x} + \\frac{3 x^{2} e^{2 x}}{2} - \\frac{7 x e^{2 x}}{2} + \\left(C_{2} + \\frac{3}{4}\\right) e^{2 x}$"
      ],
      "text/plain": [
       "Eq(y(x), C1 - x**5*exp(2*x)/10 + x**4*exp(2*x)/4 - x**3*exp(2*x) + 3*x**2*exp(2*x)/2 - 7*x*exp(2*x)/2 + (C2 + 3/4)*exp(2*x))"
      ]
     },
     "metadata": {},
     "output_type": "display_data"
    }
   ],
   "source": [
    "x = symbols('x')\n",
    "u = Function('u')(x)\n",
    "w = Function('w')(x)\n",
    "z = Function('z')(x)\n",
    "y = Function('y')(x)\n",
    "\n",
    "ode_1 = Eq(u.diff(x), u + y - (x**4 + 3*x**2 + 2)*E**(2*x))\n",
    "ode_2 = Eq(w.diff(x), u + w + z + (x**2 + 4*x + 1)*E**(2*x))\n",
    "ode_3 = Eq(z.diff(x), w + z + y - (x + 2)*E**(2*x))\n",
    "ode_4 = Eq(y.diff(x), u + y - 2*E**(2*x))\n",
    "\n",
    "solution = dsolve([ode_1, ode_2, ode_3, ode_4])\n",
    "\n",
    "for sol in solution:\n",
    "    display(sol)\n"
   ]
  }
 ],
 "metadata": {
  "kernelspec": {
   "display_name": "Python 3",
   "language": "python",
   "name": "python3"
  },
  "language_info": {
   "codemirror_mode": {
    "name": "ipython",
    "version": 3
   },
   "file_extension": ".py",
   "mimetype": "text/x-python",
   "name": "python",
   "nbconvert_exporter": "python",
   "pygments_lexer": "ipython3",
   "version": "3.13.2"
  }
 },
 "nbformat": 4,
 "nbformat_minor": 5
}
